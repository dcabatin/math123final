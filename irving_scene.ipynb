{
 "cells": [
  {
   "cell_type": "markdown",
   "id": "radical-triumph",
   "metadata": {},
   "source": [
    "**Note:** In this environment, you can define your own instance of the stable roommates problem and generate an animation showing a solution to the problem, or an indication that no solution exists."
   ]
  },
  {
   "cell_type": "code",
   "execution_count": 3,
   "id": "needed-keeping",
   "metadata": {},
   "outputs": [],
   "source": [
    "from manim import *\n",
    "from irving_animator import *\n",
    "from table import PreferenceTable\n",
    "from preference_graph import PreferenceGraph\n",
    "from sr_instance import generate_sr_instance"
   ]
  },
  {
   "cell_type": "code",
   "execution_count": 4,
   "id": "variable-concentration",
   "metadata": {},
   "outputs": [
    {
     "output_type": "stream",
     "name": "stdout",
     "text": [
      "usage: manim file [flags] [scene [scene ...]]\n       manim {cfg,init,plugins} [opts]\n\nAnimation engine for explanatory math videos\n\npositional arguments:\n  file                  Path to file holding the python code for the scene\n  scene_names           Name of the Scene class you want to see\n\noptional arguments:\n  -h, --help            show this help message and exit\n  -o OUTPUT_FILE, --output_file OUTPUT_FILE\n                        Specify the name of the output file, if it should be\n                        different from the scene class name\n  -p, --preview         Automatically open the saved file once its done\n  -f, --show_in_file_browser\n                        Show the output file in the File Browser\n  --sound               Play a success/failure sound\n  --leave_progress_bars\n                        Leave progress bars displayed in terminal\n  -a, --write_all       Write all the scenes from a file\n  -w, --write_to_movie  Render the scene as a movie file (this is on by\n                        default)\n  -s, --save_last_frame\n                        Save the last frame only (no movie file is generated)\n  -g, --save_pngs       Save each frame as a png\n  -i, --save_as_gif     Save the video as gif\n  --disable_caching     Disable caching (will generate partial-movie-files\n                        anyway)\n  --flush_cache         Remove all cached partial-movie-files\n  --log_to_file         Log terminal output to file\n  -c BACKGROUND_COLOR, --background_color BACKGROUND_COLOR\n                        Specify background color\n  --media_dir MEDIA_DIR\n                        Directory to store media (including video files)\n  --log_dir LOG_DIR     Directory to store log files\n  --tex_template TEX_TEMPLATE\n                        Specify a custom TeX template file\n  --dry_run             Do a dry run (render scenes but generate no output\n                        files)\n  -t, --transparent     Render a scene with an alpha channel\n  -q {k,p,h,m,l}, --quality {k,p,h,m,l}\n                        Render at specific quality, short form of the\n                        --*_quality flags\n  --low_quality         Render at low quality\n  --medium_quality      Render at medium quality\n  --high_quality        Render at high quality\n  --production_quality  Render at default production quality\n  --fourk_quality       Render at 4K quality\n  -l                    DEPRECATED: USE -ql or --quality l\n  -m                    DEPRECATED: USE -qm or --quality m\n  -e                    DEPRECATED: USE -qh or --quality h\n  -k                    DEPRECATED: USE -qk or --quality k\n  -r RESOLUTION, --resolution RESOLUTION\n                        Resolution, passed as \"height,width\". Overrides the\n                        -l, -m, -e, and -k flags, if present\n  -n FROM_ANIMATION_NUMBER, --from_animation_number FROM_ANIMATION_NUMBER\n                        Start rendering at the specified animation index,\n                        instead of the first animation. If you pass in two\n                        comma separated values, e.g. '3,6', it will end the\n                        rendering at the second value\n  --use_opengl_renderer\n                        Render animations using the OpenGL renderer\n  --use_webgl_renderer  Render animations using the WebGL frontend\n  --webgl_renderer_path WEBGL_RENDERER_PATH\n                        Path to the WebGL frontend\n  --webgl_updater_fps WEBGL_UPDATER_FPS\n                        Frame rate to use when generating keyframe data for\n                        animations that use updaters while using the WebGL\n                        frontend\n  --config_file CONFIG_FILE\n                        Specify the configuration file\n  --custom_folders      Use the folders defined in the [custom_folders]\n                        section of the config file to define the output folder\n                        structure\n  -v {DEBUG,INFO,WARNING,ERROR,CRITICAL}, --verbosity {DEBUG,INFO,WARNING,ERROR,CRITICAL}\n                        Verbosity level. Also changes the ffmpeg log level\n                        unless the latter is specified in the config\n  --version             Print the current version of Manim you are using\n  --progress_bar True/False\n                        Display the progress bar\n\nMade with <3 by the ManimCommunity devs\n"
     ]
    }
   ],
   "source": [
    "%manim -h"
   ]
  },
  {
   "source": [
    "Define your own preference chart here! The animations will look best if you use single characters or numbers to identify your players."
   ],
   "cell_type": "markdown",
   "metadata": {}
  },
  {
   "cell_type": "code",
   "execution_count": 5,
   "metadata": {},
   "outputs": [],
   "source": [
    "my_preferences = {\n",
    "    1: [3, 4, 2, 6, 5], \n",
    "    2: [6, 5, 4, 1, 3], \n",
    "    3: [2, 4, 5, 1, 6], \n",
    "    4: [5, 2, 3, 6, 1], \n",
    "    5: [3, 1, 2, 4, 6], \n",
    "    6: [5, 1, 3, 4, 2]}\n",
    "    \n",
    "validate_preferences(my_preferences)"
   ]
  },
  {
   "cell_type": "code",
   "execution_count": 6,
   "id": "exclusive-superior",
   "metadata": {},
   "outputs": [
    {
     "output_type": "stream",
     "name": "stderr",
     "text": [
      "C:\\Users\\david\\AppData\\Local\\Programs\\Python\\Python39\\lib\\site-packages\\numpy\\core\\_asarray.py:102: VisibleDeprecationWarning: Creating an ndarray from nested sequences exceeding the maximum number of dimensions of 32 is deprecated. If you mean to do this, you must specify 'dtype=object' when creating the ndarray.\n",
      "  return array(a, dtype, copy=False, order=order)\n"
     ]
    },
    {
     "output_type": "display_data",
     "data": {
      "text/plain": "<IPython.core.display.Video object>",
      "text/html": "<video src=\"media\\jupyter\\02b3db88bd243520148c8f9a7027d7add1aba7e5.mp4\" controls autoplay loop style=\"max-width: 25vw;\"  >\n      Your browser does not support the <code>video</code> element.\n    </video>"
     },
     "metadata": {}
    }
   ],
   "source": [
    "%%manim IrvingScene -ql -v WARNING\n",
    "\n",
    "class IrvingScene(Scene):\n",
    "    def construct(self, preferences=my_preferences):\n",
    "        if not preferences:\n",
    "            preferences = generate_sr_instance(['a', 'b', 'c', 'd'])\n",
    "        T = PreferenceTable(preferences, width=0.9*config.frame_x_radius, center=[-3.5,0,0])\n",
    "        G = PreferenceGraph(preferences, scale=1, center=(3.5,0))\n",
    "        S = IrvingAnimator(preferences=preferences, T=T, G=G, scene=self)\n",
    "        self.play(*T.create())\n",
    "        self.play(*G.create())\n",
    "        self.wait(3)\n",
    "        S.match_roommates()\n",
    "        self.wait(3)"
   ]
  },
  {
   "cell_type": "code",
   "execution_count": null,
   "metadata": {},
   "outputs": [],
   "source": []
  }
 ],
 "metadata": {
  "kernelspec": {
   "name": "python392jvsc74a57bd0d65f8af9b1347936d5c0a715a1a101b7602968bee42a1bc2161adfc924f1cbb0",
   "display_name": "Python 3.9.2 64-bit"
  },
  "language_info": {
   "codemirror_mode": {
    "name": "ipython",
    "version": 3
   },
   "file_extension": ".py",
   "mimetype": "text/x-python",
   "name": "python",
   "nbconvert_exporter": "python",
   "pygments_lexer": "ipython3",
   "version": "3.9.2-final"
  },
  "metadata": {
   "interpreter": {
    "hash": "d65f8af9b1347936d5c0a715a1a101b7602968bee42a1bc2161adfc924f1cbb0"
   }
  }
 },
 "nbformat": 4,
 "nbformat_minor": 5
}